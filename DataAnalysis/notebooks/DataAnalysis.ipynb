{
  "metadata": {
    "kernelspec": {
      "name": "",
      "display_name": ""
    },
    "language_info": {
      "name": ""
    },
    "colab": {
      "provenance": [],
      "gpuType": "V28"
    },
    "accelerator": "TPU"
  },
  "nbformat_minor": 5,
  "nbformat": 4,
  "cells": [
    {
      "id": "834a5add",
      "cell_type": "markdown",
      "source": [
        "# Retrieval-Augmented Shopping Assistant - EDA\n",
        "\n",
        "This notebook explores the ABO dataset for initial insights."
      ],
      "metadata": {
        "id": "834a5add"
      }
    },
    {
      "id": "af13cef5",
      "cell_type": "code",
      "source": [
        "import pandas as pd\n",
        "import json\n",
        "import zipfile"
      ],
      "metadata": {
        "trusted": true,
        "id": "af13cef5"
      },
      "outputs": [],
      "execution_count": null
    },
    {
      "id": "018b2cd4",
      "cell_type": "code",
      "source": [
        "# Path to your zip file\n",
        "zip_path = '/content/sample_data/listings_0.json'\n",
        "\n",
        "# Open the zip file\n",
        "with zipfile.ZipFile(zip_path, 'r') as zip_ref:\n",
        "    # List all files inside the zip\n",
        "    print(\"Files in the zip:\")\n",
        "    print(zip_ref.namelist())\n",
        "    metadata_files = [f for f in zip_ref.namelist() if f.endswith('.json')]\n",
        "    for file_name in metadata_files:\n",
        "\n"
      ],
      "metadata": {
        "id": "018b2cd4",
        "outputId": "77b5605f-b16d-4b19-d44a-dcf1b9034740",
        "colab": {
          "base_uri": "https://localhost:8080/"
        }
      },
      "outputs": [
        {
          "output_type": "stream",
          "name": "stdout",
          "text": [
            "Files in the zip:\n",
            "['LICENSE-CC-BY-4.0.txt', 'listings/README.md', 'listings/metadata/listings_0.json', 'listings/metadata/listings_1.json', 'listings/metadata/listings_2.json', 'listings/metadata/listings_3.json', 'listings/metadata/listings_4.json', 'listings/metadata/listings_5.json', 'listings/metadata/listings_6.json', 'listings/metadata/listings_7.json', 'listings/metadata/listings_8.json', 'listings/metadata/listings_9.json', 'listings/metadata/listings_a.json', 'listings/metadata/listings_b.json', 'listings/metadata/listings_c.json', 'listings/metadata/listings_d.json', 'listings/metadata/listings_e.json', 'listings/metadata/listings_f.json']\n",
            "Reading file: listings/metadata/listings_0.json\n",
            "Reading file: listings/metadata/listings_1.json\n",
            "Reading file: listings/metadata/listings_2.json\n",
            "Reading file: listings/metadata/listings_3.json\n",
            "Reading file: listings/metadata/listings_4.json\n",
            "Reading file: listings/metadata/listings_5.json\n",
            "Reading file: listings/metadata/listings_6.json\n",
            "Reading file: listings/metadata/listings_7.json\n",
            "Reading file: listings/metadata/listings_8.json\n",
            "Reading file: listings/metadata/listings_9.json\n",
            "Reading file: listings/metadata/listings_a.json\n",
            "Reading file: listings/metadata/listings_b.json\n",
            "Reading file: listings/metadata/listings_c.json\n",
            "Reading file: listings/metadata/listings_d.json\n",
            "Reading file: listings/metadata/listings_e.json\n",
            "Reading file: listings/metadata/listings_f.json\n"
          ]
        }
      ],
      "execution_count": null
    },
    {
      "id": "6688610b",
      "cell_type": "code",
      "source": [
        "# Preview\n",
        "import json\n",
        "import pandas as pd\n",
        "\n",
        "# Load your JSON (string or from a file)\n",
        "with open('/content/sample_data/listings_0.json', 'r', encoding='utf-8') as f:\n",
        "   for line in f:\n",
        "    try:\n",
        "      data = json.loads(line)\n",
        "    except json.JSONDecodeError as e:\n",
        "      print(f\"Error decoding JSON: {e}\")"
      ],
      "metadata": {
        "id": "6688610b"
      },
      "outputs": [],
      "execution_count": 3
    },
    {
      "cell_type": "code",
      "source": [
        "\n",
        "def remove_language_tag(obj):\n",
        "    \"\"\"Recursively remove 'language_tag' keys from nested dicts and lists.\"\"\"\n",
        "    if isinstance(obj, dict):\n",
        "        return {k: remove_language_tag(v) for k, v in obj.items() if k != \"language_tag\"}\n",
        "    elif isinstance(obj, list):\n",
        "        return [remove_language_tag(item) for item in obj]\n",
        "    else:\n",
        "        return obj\n"
      ],
      "metadata": {
        "id": "h2kMJKPCMn0I"
      },
      "id": "h2kMJKPCMn0I",
      "execution_count": 6,
      "outputs": []
    },
    {
      "cell_type": "code",
      "source": [
        "cleaned_data = []\n",
        "with open(\"/content/sample_data/listings_0.json\", \"r\", encoding=\"utf-8\") as f:\n",
        "    for line in f:\n",
        "        data = json.loads(line)\n",
        "        cleaned = remove_language_tag(data)\n",
        "        cleaned_data.append(cleaned)"
      ],
      "metadata": {
        "id": "Wvw4f_ceOMDP"
      },
      "id": "Wvw4f_ceOMDP",
      "execution_count": 8,
      "outputs": []
    },
    {
      "cell_type": "code",
      "source": [
        "def flatten_record(record):\n",
        "    flat = {}\n",
        "    for key, value in record.items():\n",
        "        if isinstance(value, list) and all(isinstance(v, dict) and \"value\" in v for v in value):\n",
        "            # Join multiple values with comma\n",
        "            flat[key] = \", \".join(str(v[\"value\"]) for v in value)\n",
        "        else:\n",
        "            flat[key] = value\n",
        "    return flat"
      ],
      "metadata": {
        "id": "RMd1D9kNNcP4"
      },
      "id": "RMd1D9kNNcP4",
      "execution_count": 12,
      "outputs": []
    },
    {
      "cell_type": "code",
      "source": [
        "# Apply to all records\n",
        "flattened = [flatten_record(rec) for rec in cleaned_data]\n",
        "\n",
        "# Convert to DataFrame\n",
        "df = pd.DataFrame(flattened)\n",
        "print(df.head())"
      ],
      "metadata": {
        "id": "Sv4Oa5SDQj8g",
        "outputId": "38484b79-89c7-4502-adb7-78fd23b682be",
        "colab": {
          "base_uri": "https://localhost:8080/"
        }
      },
      "id": "Sv4Oa5SDQj8g",
      "execution_count": 17,
      "outputs": [
        {
          "output_type": "stream",
          "name": "stdout",
          "text": [
            "          brand                                       bullet_point  \\\n",
            "0         find.  Schoen in Loafer-stijl, Platform hak, Cap teen...   \n",
            "1  AmazonBasics  White Powder Coat Finish, 55-Lbs max weight ca...   \n",
            "\n",
            "                     color     item_id  \\\n",
            "0  Veelkleurig Vrouw Blauw  B06X9STHNG   \n",
            "1        White Powder Coat  B07P8ML82R   \n",
            "\n",
            "                                           item_name model_name  \\\n",
            "0  Amazon-merk - vinden. Dames Leder Gesloten Tee...      37753   \n",
            "1  22\" Bottom Mount Drawer Slides, White Powder C...        NaN   \n",
            "\n",
            "    model_number model_year product_type                 style  ...  \\\n",
            "0       12-05-04       2017        SHOES  Gesloten-teen pompen  ...   \n",
            "1  AB5013-R22-10        NaN     HARDWARE              10 pares  ...   \n",
            "\n",
            "  item_weight material fabric_type color_code product_description spin_id  \\\n",
            "0         NaN      NaN         NaN        NaN                 NaN     NaN   \n",
            "1        1.45      NaN         NaN        NaN                 NaN     NaN   \n",
            "\n",
            "  3dmodel_id pattern finish_type item_shape  \n",
            "0        NaN     NaN         NaN        NaN  \n",
            "1        NaN     NaN         NaN        NaN  \n",
            "\n",
            "[2 rows x 28 columns]\n"
          ]
        }
      ]
    }
  ]
}